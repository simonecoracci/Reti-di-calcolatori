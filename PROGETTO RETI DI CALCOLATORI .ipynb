{
 "cells": [
  {
   "cell_type": "code",
   "execution_count": null,
   "metadata": {},
   "outputs": [
    {
     "name": "stdout",
     "output_type": "stream",
     "text": [
      "Server in esecuzione...\n"
     ]
    },
    {
     "name": "stderr",
     "output_type": "stream",
     "text": [
      "127.0.0.1 - - [03/Jun/2021 17:34:51] \"GET / HTTP/1.1\" 200 -\n",
      "127.0.0.1 - - [03/Jun/2021 17:34:51] \"GET /favicon.ico HTTP/1.1\" 200 -\n",
      "127.0.0.1 - - [03/Jun/2021 17:41:37] \"GET / HTTP/1.1\" 200 -\n",
      "127.0.0.1 - - [03/Jun/2021 17:41:38] \"GET /favicon.ico HTTP/1.1\" 200 -\n"
     ]
    }
   ],
   "source": [
    "#SERVER HTTP FUNZIONANTE------------------------------\n",
    "#!/usr/bin/env python\n",
    "from http.server import BaseHTTPRequestHandler, HTTPServer\n",
    "# Creiamo la classe che riceverà e risponderà alla richieste HTTP\n",
    "class testHTTPServer_RequestHandler(BaseHTTPRequestHandler):\n",
    "# Implementiamo il metodo che risponde alle richieste GET\n",
    "    def do_GET(self):\n",
    "# Specifichiamo il codice di risposta\n",
    "        self.send_response(200)\n",
    "# Specifichiamo uno o più header\n",
    "        self.send_header('Content-type','text/html')\n",
    "        self.end_headers()\n",
    "# Specifichiamo il messaggio che costituirà il corpo della risposta\n",
    "        message = \"Complimenti hai creato un server HTTP\"\n",
    "        self.wfile.write(bytes(message, \"utf8\"))\n",
    "        return\n",
    "def run():\n",
    "    print('Avvio del server...')\n",
    "# Specifichiamo le impostazioni del server\n",
    "# Scegliamo la porta 8081 (per la porta 80 sono necessari i permessi di root)\n",
    "server_address = ('127.0.0.2', 8081)\n",
    "httpd = HTTPServer(server_address, testHTTPServer_RequestHandler)\n",
    "print('Server in esecuzione...')\n",
    "httpd.serve_forever()\n",
    "run()\n",
    "#link per verificare la corretta creazione http://127.0.0.2:8081/"
   ]
  },
  {
   "cell_type": "code",
   "execution_count": 2,
   "metadata": {},
   "outputs": [
    {
     "data": {
      "text/plain": [
       "{}"
      ]
     },
     "execution_count": 2,
     "metadata": {},
     "output_type": "execute_result"
    }
   ],
   "source": [
    "#INVIO DI UNA MEIL TRAMITE PYTHON \n",
    "#Questo modulo rappresenta l'implementazione in Python del protocollo SMTP, che sta per Simple Mail Transfer Protocol\n",
    "import smtplib\n",
    "#Creiamo del contenuto che ci interessa inviare:\n",
    "oggetto = \"Subject: Urgente! da leggere subito!\\n\\n\"\n",
    "contenuto = \"Complimenti hai ricevuto una email tramite python utilizzando il server SMTP \"\n",
    "messaggio = (oggetto + contenuto)\n",
    "#Adesso dobbiamo specificare il server SMTP del servizio a cui vogliamo connetterci, \n",
    "#e la relativa porta di servizio associata, abbiamoscelto di usare gmail:\n",
    "email = smtplib.SMTP(\"smtp.gmail.com\", 587)\n",
    "#Ora possiamo connetterci al server, con la funzione ehlo:\n",
    "email.ehlo()\n",
    "#A questo punto avviamo un canale criptato tramite starttls,\n",
    "#dove tls sta per Transport Layer Security, \n",
    "#ovvero il protocollo crittografico che mette in sicurezza la nostra comunicazione col Server.\n",
    "email.starttls()\n",
    "#Arrivati a questo punto possiamo effettuare il Login vero e proprio usando i nostri Username e Password:\n",
    "email.login(\"reticalcolatori2021@gmail.com\", \"SIMONEMANUELEDAVIDE2021\")\n",
    "#Ora siamo pronti per inviare la nostra eMail:\n",
    "email.sendmail(\"reticalcolatori@gmail.com\", \"m.cilenti@lumsastud.it\", messaggio.encode('utf-8'))\n"
   ]
  },
  {
   "cell_type": "code",
   "execution_count": null,
   "metadata": {},
   "outputs": [],
   "source": [
    "#Una volta che il messaggio è inviato, interrompiamo la connessione col Server con la funzione quit:\n",
    "email.quit()"
   ]
  },
  {
   "cell_type": "code",
   "execution_count": null,
   "metadata": {},
   "outputs": [],
   "source": []
  },
  {
   "cell_type": "code",
   "execution_count": null,
   "metadata": {},
   "outputs": [],
   "source": []
  },
  {
   "cell_type": "code",
   "execution_count": null,
   "metadata": {},
   "outputs": [],
   "source": []
  },
  {
   "cell_type": "code",
   "execution_count": null,
   "metadata": {},
   "outputs": [],
   "source": []
  },
  {
   "cell_type": "code",
   "execution_count": null,
   "metadata": {},
   "outputs": [],
   "source": []
  },
  {
   "cell_type": "code",
   "execution_count": null,
   "metadata": {},
   "outputs": [],
   "source": []
  },
  {
   "cell_type": "code",
   "execution_count": null,
   "metadata": {},
   "outputs": [],
   "source": []
  },
  {
   "cell_type": "code",
   "execution_count": null,
   "metadata": {},
   "outputs": [],
   "source": []
  },
  {
   "cell_type": "code",
   "execution_count": null,
   "metadata": {},
   "outputs": [],
   "source": []
  },
  {
   "cell_type": "code",
   "execution_count": null,
   "metadata": {},
   "outputs": [],
   "source": []
  },
  {
   "cell_type": "code",
   "execution_count": null,
   "metadata": {},
   "outputs": [],
   "source": []
  },
  {
   "cell_type": "code",
   "execution_count": null,
   "metadata": {},
   "outputs": [],
   "source": []
  },
  {
   "cell_type": "code",
   "execution_count": null,
   "metadata": {},
   "outputs": [],
   "source": []
  },
  {
   "cell_type": "code",
   "execution_count": null,
   "metadata": {},
   "outputs": [],
   "source": []
  },
  {
   "cell_type": "code",
   "execution_count": 4,
   "metadata": {},
   "outputs": [],
   "source": [
    "#INVIO DI UNA MEIL TRAMITE PYTHON \n",
    "#Questo modulo rappresenta l'implementazione in Python del protocollo SMTP, che sta per Simple Mail Transfer Protocol\n",
    "import smtplib\n",
    "#Creiamo del contenuto che ci interessa inviare:\n",
    "oggetto = \"Subject: Urgente! da leggere subito!\\n\\n\"\n",
    "contenuto = \"connettiti al Server che è meglio\"\n",
    "messaggio = (oggetto + contenuto)\n",
    "#Adesso dobbiamo specificare il server SMTP del servizio a cui vogliamo connetterci, \n",
    "#e la relativa porta di servizio associata, abbiamoscelto di usare gmail:\n",
    "email = smtplib.SMTP(\"smtp.gmail.com\", 587)"
   ]
  },
  {
   "cell_type": "code",
   "execution_count": 5,
   "metadata": {
    "scrolled": false
   },
   "outputs": [
    {
     "data": {
      "text/plain": [
       "(250,\n",
       " b'smtp.gmail.com at your service, [5.171.105.49]\\nSIZE 35882577\\n8BITMIME\\nSTARTTLS\\nENHANCEDSTATUSCODES\\nPIPELINING\\nSMTPUTF8')"
      ]
     },
     "execution_count": 5,
     "metadata": {},
     "output_type": "execute_result"
    }
   ],
   "source": [
    "#Ora possiamo connetterci al server, con la funzione ehlo:\n",
    "email.ehlo()"
   ]
  },
  {
   "cell_type": "code",
   "execution_count": 6,
   "metadata": {},
   "outputs": [
    {
     "data": {
      "text/plain": [
       "(220, b'2.0.0 Ready to start TLS')"
      ]
     },
     "execution_count": 6,
     "metadata": {},
     "output_type": "execute_result"
    }
   ],
   "source": [
    "#A questo punto avviamo un canale criptato tramite starttls,\n",
    "#dove tls sta per Transport Layer Security, \n",
    "#ovvero il protocollo crittografico che mette in sicurezza la nostra comunicazione col Server.\n",
    "email.starttls()"
   ]
  },
  {
   "cell_type": "code",
   "execution_count": 7,
   "metadata": {},
   "outputs": [
    {
     "data": {
      "text/plain": [
       "(235, b'2.7.0 Accepted')"
      ]
     },
     "execution_count": 7,
     "metadata": {},
     "output_type": "execute_result"
    }
   ],
   "source": [
    "#Arrivati a questo punto possiamo effettuare il Login vero e proprio usando i nostri Username e Password:\n",
    "email.login(\"reticalcolatori2021@gmail.com\", \"SIMONEMANUELEDAVIDE2021\")"
   ]
  },
  {
   "cell_type": "code",
   "execution_count": 8,
   "metadata": {},
   "outputs": [
    {
     "data": {
      "text/plain": [
       "{}"
      ]
     },
     "execution_count": 8,
     "metadata": {},
     "output_type": "execute_result"
    }
   ],
   "source": [
    "#Ora siamo pronti per inviare la nostra eMail:\n",
    "email.sendmail(\"reticalcolatori@gmail.com\", \"davide.fusaroli@gmail.com\", messaggio.encode('utf-8'))"
   ]
  },
  {
   "cell_type": "code",
   "execution_count": 6,
   "metadata": {},
   "outputs": [
    {
     "data": {
      "text/plain": [
       "(221, b'2.0.0 closing connection dh21sm380542edb.28 - gsmtp')"
      ]
     },
     "execution_count": 6,
     "metadata": {},
     "output_type": "execute_result"
    }
   ],
   "source": [
    "#Una volta che il messaggio è inviato, interrompiamo la connessione col Server con la funzione quit:\n",
    "email.quit()"
   ]
  },
  {
   "cell_type": "code",
   "execution_count": 2,
   "metadata": {},
   "outputs": [
    {
     "data": {
      "text/plain": [
       "{}"
      ]
     },
     "execution_count": 2,
     "metadata": {},
     "output_type": "execute_result"
    }
   ],
   "source": []
  },
  {
   "cell_type": "code",
   "execution_count": null,
   "metadata": {},
   "outputs": [],
   "source": []
  },
  {
   "cell_type": "code",
   "execution_count": null,
   "metadata": {},
   "outputs": [
    {
     "name": "stdout",
     "output_type": "stream",
     "text": [
      "Server inizializzato, ora in ascolto...\n"
     ]
    }
   ],
   "source": [
    "#SERVER\n",
    "import socket\n",
    "import subprocess\n",
    "\n",
    "def ricevi_comandi(conn):\n",
    "    while True:\n",
    "        richiesta = conn.recv(4096)\n",
    "        risposta = subprocess.run(richiesta.decode(), shell = True, stdout = subprocess.PIPE, stderr = subprocess.PIPE)\n",
    "        data = risposta.stdout + risposta.stderr\n",
    "        conn.send(data)\n",
    "\n",
    "def sub_server(indirizzo, backlog = 1):  # il back log rappresenta il numero di connessioni non accettate ma ammesse\n",
    "    try:\n",
    "        s = socket.socket() # creazione del socket_server\n",
    "        s.bind(indirizzo) # collegamento del socket all'indirizzo della macchina e alla porta designata\n",
    "        s.listen(backlog) # messa in ascolto in attesa della connessione del Client\n",
    "        print(\"Server inizializzato, ora in ascolto...\")\n",
    "    except socket.error as errore: #creazione del socket_server\n",
    "        print(\"Qualcosa è andato storto, sto uscendo... \\n {errore}\")\n",
    "        print(\" Sto tentando di reinizializzare il server...\")\n",
    "        sub_server(indirizzo, backlog = 1)\n",
    "    conn, indirizzo_client = s.accept()\n",
    "    print(\"Connessione server Client STABILITA\")\n",
    "    ricevi_comandi(conn)\n",
    "        \n",
    "if __name__ == \"__main__\":\n",
    "    sub_server((\"192.168.1.38\", 15000))"
   ]
  },
  {
   "cell_type": "code",
   "execution_count": 2,
   "metadata": {},
   "outputs": [
    {
     "ename": "NameError",
     "evalue": "name '_name_' is not defined",
     "output_type": "error",
     "traceback": [
      "\u001b[1;31m---------------------------------------------------------------------------\u001b[0m",
      "\u001b[1;31mNameError\u001b[0m                                 Traceback (most recent call last)",
      "\u001b[1;32m<ipython-input-2-60a77c298545>\u001b[0m in \u001b[0;36m<module>\u001b[1;34m\u001b[0m\n\u001b[0;32m     26\u001b[0m     \u001b[0minvia_comandi\u001b[0m\u001b[1;33m(\u001b[0m\u001b[0ms\u001b[0m\u001b[1;33m)\u001b[0m\u001b[1;33m\u001b[0m\u001b[1;33m\u001b[0m\u001b[0m\n\u001b[0;32m     27\u001b[0m \u001b[1;33m\u001b[0m\u001b[0m\n\u001b[1;32m---> 28\u001b[1;33m \u001b[1;32mif\u001b[0m \u001b[0m_name_\u001b[0m \u001b[1;33m==\u001b[0m \u001b[1;34m\"_main_\"\u001b[0m\u001b[1;33m:\u001b[0m      \u001b[1;31m# se stiamo eseguendo lo script direttameente come programma, lancio la connessione al sub_server\u001b[0m\u001b[1;33m\u001b[0m\u001b[1;33m\u001b[0m\u001b[0m\n\u001b[0m\u001b[0;32m     29\u001b[0m     \u001b[0mconn_sub_server\u001b[0m\u001b[1;33m(\u001b[0m\u001b[1;33m(\u001b[0m\u001b[1;34m\"192.168.1.38\"\u001b[0m\u001b[1;33m,\u001b[0m \u001b[1;36m15000\u001b[0m\u001b[1;33m)\u001b[0m\u001b[1;33m)\u001b[0m \u001b[1;31m#per vedere il proprio ip accedere al promp dei comandi e scrivere \"ipconfig\" (leggere IPv4), scelgo la porta 15000 poichè le prime 1024 porte sono riservate al sistema, si scelgono quindi porte che vanno dal 1024-65535\u001b[0m\u001b[1;33m\u001b[0m\u001b[1;33m\u001b[0m\u001b[0m\n",
      "\u001b[1;31mNameError\u001b[0m: name '_name_' is not defined"
     ]
    }
   ],
   "source": [
    "#CLIENT\n",
    "import socket\n",
    "import sys #libreria per gli errori (il server non accetta altre richieste, non siamo connessi)\n",
    "import subprocess\n",
    "\n",
    "def invia_comandi(s):\n",
    "    while True:  # ciclo infinito in modo che continui a chiederci comandi dopo che la richiesta è stata elaborata e abbiamo ottenuto un arisposta\n",
    "        comando = input(\"-> \")\n",
    "        if comando == \"ESC\":   # opzione per chiudere la connessione con il server\n",
    "            print(\" Sto chiudendo la connessione con il server. \")\n",
    "            s.close()  # funzione per chiudere la connessione (socket)\n",
    "            sys.exit()\n",
    "        else:         #la persona può inviare comandi\n",
    "            s.send(comando.encode())   # poichè il comando va prima codificato\n",
    "            data = s.rcv(4096) #i dati che riceviamo sono divisi in blocchi con dimensione 4096 (buffer)\n",
    "            print(str(data, \"utf-8\"))\n",
    "            \n",
    "def conn_sub_server(indirizzo_server): # funzione di connessione al sub_server\n",
    "    try:\n",
    "        s = socket.socket()  # creazione del socket_server\n",
    "        s.connect(indirizzo_server) # connessione al server\n",
    "        print(\" Connessione al server: \")\n",
    "    except socket.error as errore:  #creazione socket e connessione al server ad eccezione degli errori\n",
    "        print(\"Qualcosa è andato storto, sto uscendo... \\n {errore}\")\n",
    "        sys.exit()\n",
    "    invia_comandi(s)\n",
    "    \n",
    "if _name_ == \"_main_\":      # se stiamo eseguendo lo script direttameente come programma, lancio la connessione al sub_server\n",
    "    conn_sub_server((\"192.168.1.38\", 15000)) #per vedere il proprio ip accedere al promp dei comandi e scrivere \"ipconfig\" (leggere IPv4), scelgo la porta 15000 poichè le prime 1024 porte sono riservate al sistema, si scelgono quindi porte che vanno dal 1024-65535"
   ]
  },
  {
   "cell_type": "code",
   "execution_count": 1,
   "metadata": {},
   "outputs": [
    {
     "name": "stdout",
     "output_type": "stream",
     "text": [
      "<socket.socket fd=988, family=AddressFamily.AF_INET, type=SocketKind.SOCK_STREAM, proto=0, laddr=('192.168.1.38', 58084), raddr=('216.58.208.131', 80)>\n",
      "b'HTTP/1.0 400 Bad Request\\r\\nContent-Type: text/html; charset=UTF-8\\r\\nReferrer-Policy: no-referrer\\r\\nContent-Length: 1555\\r\\nDate: Wed, 26 May 2021 21:15:50 GMT\\r\\n\\r\\n<!DOCTYPE html>\\n<html lang=en>\\n  <meta charset=utf-8>\\n  <meta name=viewport content=\"initial-scale=1, minimum-scale=1, width=device-width\">\\n  <title>Error 400 (Bad Request)!!1</title>\\n  <style>\\n    *{margin:0;padding:0}html,code{font:15px/22px arial,sans-serif}html{background:#fff;color:#222;padding:15px}body{margin:7% auto 0;max-width:390px;min-height:180px;padding:30px 0 15px}* > body{background:url(//www.google.com/images/errors/robot.png) 100% 5px no-repeat;padding-right:205px}p{margin:11px 0 22px;overflow:hidden}ins{color:#777;text-decoration:none}a img{border:0}@media screen and (max-width:772px){body{background:none;margin-top:0;max-width:none;padding-right:0}}#logo{background:url(//www.google.com/images/branding/googlelogo/1x/googlelogo_color_150x54dp.png) no-repeat;margin-left:-5px}@media only screen and (min-resolution:192dpi){#logo{background:url(//www.google.com/images/branding/googlelogo/2x/googlelogo_color_150x54dp.png) no-repeat 0% 0%/100% 100%;-moz-border-image:url(//www.google.com/images/branding/googlelogo/2x/googlelogo_color_150x54dp.png) 0}}@media only screen and (-webkit-min-device-pixel-ratio:2){#logo{background:url(//www.google.com/images/branding/googlelogo/2x/googlelogo_color_150x54dp.png) no-repeat;-webkit-background-size:100% 100%}}#logo{display:inline-block;height:54px;width:150px}\\n  </style>\\n  <a href=//www.google.com/><span id=logo aria-label=Google></span></a>\\n  <p><b>400.</b> <ins>That\\xe2\\x80\\x99s an error.</ins>\\n  <p>Your client has issued a malformed or illegal request.  <ins>That\\xe2\\x80\\x99s all we know.</ins>\\n'\n"
     ]
    }
   ],
   "source": [
    "import socket\n",
    "s = socket.socket() #lasciamo la funzione standard\n",
    "#creazione client socket\n",
    "s.connect((\"www.google.it\", 80))\n",
    "print(s)\n",
    "#funzione generica per inviare la richiesta a google per la sua home page (GET)\n",
    "richiesta = \"GET / HTTP/ 1.1\\nHOS: www.google.it\\n\\n\"\n",
    "s.send(richiesta.encode()) #trasmette messaggi TCP, encode perche vogliamo la richiesta in bitesobjects\n",
    "#riceve messaggi TCP\n",
    "risposta = s.recv(2048) #passiamo un valore corrispondente alla grandezza del buffer cioè la quantità di dati che vogliam scaricare per volta\n",
    "risposta\n",
    "#per avere tutto il contenuto del buffer\n",
    "while len(risposta) > 0 :\n",
    "    print(risposta)\n",
    "    risposta = s.recv(2048)"
   ]
  },
  {
   "cell_type": "code",
   "execution_count": 2,
   "metadata": {},
   "outputs": [
    {
     "name": "stdout",
     "output_type": "stream",
     "text": [
      "<socket.socket [closed] fd=-1, family=AddressFamily.AF_INET, type=SocketKind.SOCK_STREAM, proto=0>\n"
     ]
    }
   ],
   "source": [
    "s.close()\n",
    "print(s)"
   ]
  },
  {
   "cell_type": "code",
   "execution_count": null,
   "metadata": {},
   "outputs": [],
   "source": []
  }
 ],
 "metadata": {
  "kernelspec": {
   "display_name": "Python 3 (ipykernel)",
   "language": "python",
   "name": "python3"
  },
  "language_info": {
   "codemirror_mode": {
    "name": "ipython",
    "version": 3
   },
   "file_extension": ".py",
   "mimetype": "text/x-python",
   "name": "python",
   "nbconvert_exporter": "python",
   "pygments_lexer": "ipython3",
   "version": "3.9.7"
  }
 },
 "nbformat": 4,
 "nbformat_minor": 4
}
